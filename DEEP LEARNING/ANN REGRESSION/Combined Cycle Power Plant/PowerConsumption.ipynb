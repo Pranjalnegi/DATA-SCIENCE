{
 "cells": [
  {
   "cell_type": "markdown",
   "metadata": {
    "colab_type": "text",
    "id": "3cbb7fRy-eyr"
   },
   "source": [
    "# Artificial Neural Network"
   ]
  },
  {
   "cell_type": "markdown",
   "metadata": {
    "colab_type": "text",
    "id": "8sNDnxE2-pwE"
   },
   "source": [
    "### Importing the libraries"
   ]
  },
  {
   "cell_type": "code",
   "execution_count": 1,
   "metadata": {
    "colab": {},
    "colab_type": "code",
    "id": "lxChR1Rk-umf"
   },
   "outputs": [],
   "source": [
    "import pandas as pd\n",
    "import numpy as np\n",
    "import tensorflow as tf"
   ]
  },
  {
   "cell_type": "markdown",
   "metadata": {
    "colab_type": "text",
    "id": "AG3FQEch-yuA"
   },
   "source": [
    "## Part 1 - Data Preprocessing"
   ]
  },
  {
   "cell_type": "markdown",
   "metadata": {
    "colab_type": "text",
    "id": "-4zq8Mza_D9O"
   },
   "source": [
    "### Importing the dataset"
   ]
  },
  {
   "cell_type": "code",
   "execution_count": 6,
   "metadata": {
    "colab": {},
    "colab_type": "code",
    "id": "B9CV13Co_HHM"
   },
   "outputs": [],
   "source": [
    "dataset = pd.read_excel('Folds5x2_pp.xlsx')\n",
    "X = dataset.iloc[:, :-1].values\n",
    "Y= dataset.iloc[:, -1].values"
   ]
  },
  {
   "cell_type": "markdown",
   "metadata": {
    "colab_type": "text",
    "id": "VC6omXel_Up0"
   },
   "source": [
    "### Splitting the dataset into the Training set and Test set"
   ]
  },
  {
   "cell_type": "code",
   "execution_count": 23,
   "metadata": {
    "colab": {},
    "colab_type": "code",
    "id": "L5edeb2r_agx"
   },
   "outputs": [],
   "source": [
    "from sklearn.model_selection import train_test_split\n",
    "x_train,x_test,y_train,y_test=train_test_split(X,Y,test_size=0.2,random_state=0)"
   ]
  },
  {
   "cell_type": "markdown",
   "metadata": {
    "colab_type": "text",
    "id": "_mSLlAT9_eyI"
   },
   "source": [
    "## Part 2 - Building the ANN"
   ]
  },
  {
   "cell_type": "markdown",
   "metadata": {
    "colab_type": "text",
    "id": "CsBULd_f_wLY"
   },
   "source": [
    "### Initializing the ANN"
   ]
  },
  {
   "cell_type": "code",
   "execution_count": 24,
   "metadata": {
    "colab": {},
    "colab_type": "code",
    "id": "J6Hd97Ls__Nz"
   },
   "outputs": [],
   "source": [
    "ann=tf.keras.models.Sequential()"
   ]
  },
  {
   "cell_type": "markdown",
   "metadata": {
    "colab_type": "text",
    "id": "iitAFJS_ABUn"
   },
   "source": [
    "### Adding the input layer and the first hidden layer"
   ]
  },
  {
   "cell_type": "code",
   "execution_count": 25,
   "metadata": {
    "colab": {},
    "colab_type": "code",
    "id": "ksO_Vv40AHix"
   },
   "outputs": [],
   "source": [
    "ann.add(tf.keras.layers.Dense(units=6,activation=\"relu\"))"
   ]
  },
  {
   "cell_type": "markdown",
   "metadata": {
    "colab_type": "text",
    "id": "-lb4kK_wAKbs"
   },
   "source": [
    "### Adding the second hidden layer"
   ]
  },
  {
   "cell_type": "code",
   "execution_count": 26,
   "metadata": {
    "colab": {},
    "colab_type": "code",
    "id": "c2357OqEAQOQ"
   },
   "outputs": [],
   "source": [
    "ann.add(tf.keras.layers.Dense(units=6,activation=\"relu\"))"
   ]
  },
  {
   "cell_type": "markdown",
   "metadata": {
    "colab_type": "text",
    "id": "jwMOmKb3AdBY"
   },
   "source": [
    "### Adding the output layer"
   ]
  },
  {
   "cell_type": "code",
   "execution_count": 27,
   "metadata": {
    "colab": {},
    "colab_type": "code",
    "id": "YFATpzsUAkLL"
   },
   "outputs": [],
   "source": [
    "ann.add(tf.keras.layers.Dense(units=1))"
   ]
  },
  {
   "cell_type": "markdown",
   "metadata": {
    "colab_type": "text",
    "id": "fq7e4fF6A1yy"
   },
   "source": [
    "## Part 3 - Training the ANN"
   ]
  },
  {
   "cell_type": "markdown",
   "metadata": {
    "colab_type": "text",
    "id": "qDeylAs2An25"
   },
   "source": [
    "### Compiling the ANN"
   ]
  },
  {
   "cell_type": "code",
   "execution_count": 28,
   "metadata": {
    "colab": {},
    "colab_type": "code",
    "id": "pesgbWlCAtB4"
   },
   "outputs": [],
   "source": [
    "ann.compile(optimizer=\"adam\",loss=\"mean_squared_error\")"
   ]
  },
  {
   "cell_type": "markdown",
   "metadata": {
    "colab_type": "text",
    "id": "YjVuiybYOo7r"
   },
   "source": [
    "### Training the ANN model on the Training set"
   ]
  },
  {
   "cell_type": "code",
   "execution_count": 29,
   "metadata": {},
   "outputs": [
    {
     "name": "stdout",
     "output_type": "stream",
     "text": [
      "Train on 7654 samples\n",
      "Epoch 1/100\n",
      "7654/7654 [==============================] - 1s 79us/sample - loss: 137668.1903\n",
      "Epoch 2/100\n",
      "7654/7654 [==============================] - 0s 40us/sample - loss: 10147.9932\n",
      "Epoch 3/100\n",
      "7654/7654 [==============================] - 0s 48us/sample - loss: 529.4430\n",
      "Epoch 4/100\n",
      "7654/7654 [==============================] - 0s 46us/sample - loss: 516.9987\n",
      "Epoch 5/100\n",
      "7654/7654 [==============================] - 0s 45us/sample - loss: 502.3680\n",
      "Epoch 6/100\n",
      "7654/7654 [==============================] - 0s 44us/sample - loss: 486.7784\n",
      "Epoch 7/100\n",
      "7654/7654 [==============================] - 0s 34us/sample - loss: 468.4167\n",
      "Epoch 8/100\n",
      "7654/7654 [==============================] - 0s 42us/sample - loss: 448.3256\n",
      "Epoch 9/100\n",
      "7654/7654 [==============================] - 0s 45us/sample - loss: 425.9585\n",
      "Epoch 10/100\n",
      "7654/7654 [==============================] - 0s 41us/sample - loss: 402.2323\n",
      "Epoch 11/100\n",
      "7654/7654 [==============================] - 0s 45us/sample - loss: 376.9773\n",
      "Epoch 12/100\n",
      "7654/7654 [==============================] - 0s 33us/sample - loss: 350.9349\n",
      "Epoch 13/100\n",
      "7654/7654 [==============================] - 0s 38us/sample - loss: 323.6029\n",
      "Epoch 14/100\n",
      "7654/7654 [==============================] - 0s 44us/sample - loss: 295.6917\n",
      "Epoch 15/100\n",
      "7654/7654 [==============================] - 0s 45us/sample - loss: 267.6125\n",
      "Epoch 16/100\n",
      "7654/7654 [==============================] - 0s 44us/sample - loss: 240.4113\n",
      "Epoch 17/100\n",
      "7654/7654 [==============================] - 0s 35us/sample - loss: 212.3473\n",
      "Epoch 18/100\n",
      "7654/7654 [==============================] - 0s 43us/sample - loss: 185.6212\n",
      "Epoch 19/100\n",
      "7654/7654 [==============================] - 0s 40us/sample - loss: 157.8273\n",
      "Epoch 20/100\n",
      "7654/7654 [==============================] - 0s 34us/sample - loss: 123.2479\n",
      "Epoch 21/100\n",
      "7654/7654 [==============================] - 0s 34us/sample - loss: 95.2703\n",
      "Epoch 22/100\n",
      "7654/7654 [==============================] - 0s 33us/sample - loss: 72.7245\n",
      "Epoch 23/100\n",
      "7654/7654 [==============================] - 0s 37us/sample - loss: 56.8429\n",
      "Epoch 24/100\n",
      "7654/7654 [==============================] - 0s 34us/sample - loss: 46.8405\n",
      "Epoch 25/100\n",
      "7654/7654 [==============================] - 0s 33us/sample - loss: 40.7418\n",
      "Epoch 26/100\n",
      "7654/7654 [==============================] - 0s 34us/sample - loss: 36.6708\n",
      "Epoch 27/100\n",
      "7654/7654 [==============================] - 0s 37us/sample - loss: 34.0099\n",
      "Epoch 28/100\n",
      "7654/7654 [==============================] - 0s 35us/sample - loss: 31.6280\n",
      "Epoch 29/100\n",
      "7654/7654 [==============================] - 0s 33us/sample - loss: 30.1443\n",
      "Epoch 30/100\n",
      "7654/7654 [==============================] - 0s 33us/sample - loss: 29.3468\n",
      "Epoch 31/100\n",
      "7654/7654 [==============================] - 0s 44us/sample - loss: 28.5131\n",
      "Epoch 32/100\n",
      "7654/7654 [==============================] - 0s 43us/sample - loss: 28.0545\n",
      "Epoch 33/100\n",
      "7654/7654 [==============================] - 0s 47us/sample - loss: 27.6759\n",
      "Epoch 34/100\n",
      "7654/7654 [==============================] - 0s 37us/sample - loss: 27.5663\n",
      "Epoch 35/100\n",
      "7654/7654 [==============================] - 0s 35us/sample - loss: 27.3775\n",
      "Epoch 36/100\n",
      "7654/7654 [==============================] - 0s 33us/sample - loss: 27.2390\n",
      "Epoch 37/100\n",
      "7654/7654 [==============================] - 0s 35us/sample - loss: 27.3388\n",
      "Epoch 38/100\n",
      "7654/7654 [==============================] - 0s 37us/sample - loss: 27.6185\n",
      "Epoch 39/100\n",
      "7654/7654 [==============================] - 0s 34us/sample - loss: 27.1842\n",
      "Epoch 40/100\n",
      "7654/7654 [==============================] - 0s 34us/sample - loss: 27.2077\n",
      "Epoch 41/100\n",
      "7654/7654 [==============================] - 0s 33us/sample - loss: 27.8406\n",
      "Epoch 42/100\n",
      "7654/7654 [==============================] - 0s 44us/sample - loss: 27.3266\n",
      "Epoch 43/100\n",
      "7654/7654 [==============================] - 0s 39us/sample - loss: 27.3374\n",
      "Epoch 44/100\n",
      "7654/7654 [==============================] - 0s 34us/sample - loss: 27.0470\n",
      "Epoch 45/100\n",
      "7654/7654 [==============================] - 0s 36us/sample - loss: 26.9706\n",
      "Epoch 46/100\n",
      "7654/7654 [==============================] - 0s 35us/sample - loss: 26.5066\n",
      "Epoch 47/100\n",
      "7654/7654 [==============================] - 0s 33us/sample - loss: 26.9792\n",
      "Epoch 48/100\n",
      "7654/7654 [==============================] - 0s 35us/sample - loss: 26.5719\n",
      "Epoch 49/100\n",
      "7654/7654 [==============================] - 0s 38us/sample - loss: 26.5926\n",
      "Epoch 50/100\n",
      "7654/7654 [==============================] - 0s 36us/sample - loss: 26.7023\n",
      "Epoch 51/100\n",
      "7654/7654 [==============================] - 0s 43us/sample - loss: 26.5233\n",
      "Epoch 52/100\n",
      "7654/7654 [==============================] - 0s 39us/sample - loss: 27.0461\n",
      "Epoch 53/100\n",
      "7654/7654 [==============================] - 0s 38us/sample - loss: 27.2505\n",
      "Epoch 54/100\n",
      "7654/7654 [==============================] - 0s 33us/sample - loss: 26.8324\n",
      "Epoch 55/100\n",
      "7654/7654 [==============================] - 0s 33us/sample - loss: 26.7265\n",
      "Epoch 56/100\n",
      "7654/7654 [==============================] - 0s 36us/sample - loss: 27.2659\n",
      "Epoch 57/100\n",
      "7654/7654 [==============================] - 0s 54us/sample - loss: 26.5113\n",
      "Epoch 58/100\n",
      "7654/7654 [==============================] - 0s 57us/sample - loss: 26.3483\n",
      "Epoch 59/100\n",
      "7654/7654 [==============================] - 0s 54us/sample - loss: 26.4383\n",
      "Epoch 60/100\n",
      "7654/7654 [==============================] - 0s 52us/sample - loss: 27.1367\n",
      "Epoch 61/100\n",
      "7654/7654 [==============================] - 0s 45us/sample - loss: 26.4082\n",
      "Epoch 62/100\n",
      "7654/7654 [==============================] - 0s 48us/sample - loss: 26.6595\n",
      "Epoch 63/100\n",
      "7654/7654 [==============================] - 0s 50us/sample - loss: 26.5018\n",
      "Epoch 64/100\n",
      "7654/7654 [==============================] - 0s 46us/sample - loss: 26.7181\n",
      "Epoch 65/100\n",
      "7654/7654 [==============================] - 0s 42us/sample - loss: 26.4002\n",
      "Epoch 66/100\n",
      "7654/7654 [==============================] - 0s 35us/sample - loss: 26.6818\n",
      "Epoch 67/100\n",
      "7654/7654 [==============================] - 0s 35us/sample - loss: 27.0333\n",
      "Epoch 68/100\n",
      "7654/7654 [==============================] - 0s 37us/sample - loss: 26.7754\n",
      "Epoch 69/100\n",
      "7654/7654 [==============================] - 0s 33us/sample - loss: 26.5313\n",
      "Epoch 70/100\n",
      "7654/7654 [==============================] - 0s 33us/sample - loss: 26.1635\n",
      "Epoch 71/100\n",
      "7654/7654 [==============================] - 0s 34us/sample - loss: 26.3518\n",
      "Epoch 72/100\n",
      "7654/7654 [==============================] - 0s 36us/sample - loss: 26.4453\n",
      "Epoch 73/100\n",
      "7654/7654 [==============================] - 0s 34us/sample - loss: 26.1657\n",
      "Epoch 74/100\n",
      "7654/7654 [==============================] - 0s 37us/sample - loss: 26.4433\n",
      "Epoch 75/100\n",
      "7654/7654 [==============================] - 0s 41us/sample - loss: 27.0575\n",
      "Epoch 76/100\n",
      "7654/7654 [==============================] - 0s 42us/sample - loss: 26.3699\n",
      "Epoch 77/100\n",
      "7654/7654 [==============================] - 0s 39us/sample - loss: 26.3527\n",
      "Epoch 78/100\n",
      "7654/7654 [==============================] - 0s 39us/sample - loss: 26.3820\n",
      "Epoch 79/100\n",
      "7654/7654 [==============================] - 0s 39us/sample - loss: 26.7304\n",
      "Epoch 80/100\n",
      "7654/7654 [==============================] - 0s 35us/sample - loss: 26.6658\n",
      "Epoch 81/100\n",
      "7654/7654 [==============================] - 0s 34us/sample - loss: 26.3182\n",
      "Epoch 82/100\n",
      "7654/7654 [==============================] - 0s 35us/sample - loss: 26.4424\n",
      "Epoch 83/100\n",
      "7654/7654 [==============================] - 0s 36us/sample - loss: 26.5428\n",
      "Epoch 84/100\n",
      "7654/7654 [==============================] - 0s 34us/sample - loss: 26.2677\n",
      "Epoch 85/100\n",
      "7654/7654 [==============================] - 0s 35us/sample - loss: 26.6438\n",
      "Epoch 86/100\n",
      "7654/7654 [==============================] - 0s 40us/sample - loss: 26.9209\n",
      "Epoch 87/100\n",
      "7654/7654 [==============================] - 0s 44us/sample - loss: 26.9557\n",
      "Epoch 88/100\n",
      "7654/7654 [==============================] - 0s 39us/sample - loss: 26.7192\n",
      "Epoch 89/100\n",
      "7654/7654 [==============================] - 0s 40us/sample - loss: 26.4458\n",
      "Epoch 90/100\n",
      "7654/7654 [==============================] - 0s 44us/sample - loss: 26.5213\n",
      "Epoch 91/100\n",
      "7654/7654 [==============================] - 0s 39us/sample - loss: 26.2582\n",
      "Epoch 92/100\n"
     ]
    },
    {
     "name": "stdout",
     "output_type": "stream",
     "text": [
      "7654/7654 [==============================] - 0s 37us/sample - loss: 26.3826\n",
      "Epoch 93/100\n",
      "7654/7654 [==============================] - 0s 33us/sample - loss: 26.4512\n",
      "Epoch 94/100\n",
      "7654/7654 [==============================] - 0s 36us/sample - loss: 26.2086\n",
      "Epoch 95/100\n",
      "7654/7654 [==============================] - 0s 32us/sample - loss: 26.2283\n",
      "Epoch 96/100\n",
      "7654/7654 [==============================] - 0s 32us/sample - loss: 26.4176\n",
      "Epoch 97/100\n",
      "7654/7654 [==============================] - 0s 33us/sample - loss: 27.5144\n",
      "Epoch 98/100\n",
      "7654/7654 [==============================] - 0s 35us/sample - loss: 26.5875\n",
      "Epoch 99/100\n",
      "7654/7654 [==============================] - 0s 32us/sample - loss: 26.7180\n",
      "Epoch 100/100\n",
      "7654/7654 [==============================] - 0s 33us/sample - loss: 26.3817\n"
     ]
    },
    {
     "data": {
      "text/plain": [
       "<tensorflow.python.keras.callbacks.History at 0x1e61a795548>"
      ]
     },
     "execution_count": 29,
     "metadata": {},
     "output_type": "execute_result"
    }
   ],
   "source": [
    "ann.fit(x_train,y_train,batch_size=32,epochs=100)"
   ]
  },
  {
   "cell_type": "markdown",
   "metadata": {
    "colab_type": "text",
    "id": "0H0zKKNEBLD5"
   },
   "source": [
    "### Predicting the results of the Test set"
   ]
  },
  {
   "cell_type": "code",
   "execution_count": 30,
   "metadata": {
    "colab": {
     "base_uri": "https://localhost:8080/",
     "height": 134
    },
    "colab_type": "code",
    "id": "IA0yApEmBG1X",
    "outputId": "cb981e1f-9204-4a2a-fece-9d66a6919189"
   },
   "outputs": [
    {
     "name": "stdout",
     "output_type": "stream",
     "text": [
      "[[432.34 431.23]\n",
      " [463.32 460.01]\n",
      " [466.8  461.14]\n",
      " ...\n",
      " [474.03 473.26]\n",
      " [440.88 438.  ]\n",
      " [460.04 463.28]]\n"
     ]
    }
   ],
   "source": [
    "y_pred=ann.predict(x_test)\n",
    "np.set_printoptions(precision=2)\n",
    "print(np.concatenate((y_pred.reshape(len(y_pred),1),y_test.reshape(len(y_test),1)),1))"
   ]
  },
  {
   "cell_type": "code",
   "execution_count": null,
   "metadata": {},
   "outputs": [],
   "source": []
  }
 ],
 "metadata": {
  "colab": {
   "collapsed_sections": [],
   "name": "Artificial Neural Network",
   "provenance": [],
   "toc_visible": true
  },
  "kernelspec": {
   "display_name": "Python 3",
   "language": "python",
   "name": "python3"
  },
  "language_info": {
   "codemirror_mode": {
    "name": "ipython",
    "version": 3
   },
   "file_extension": ".py",
   "mimetype": "text/x-python",
   "name": "python",
   "nbconvert_exporter": "python",
   "pygments_lexer": "ipython3",
   "version": "3.7.7"
  }
 },
 "nbformat": 4,
 "nbformat_minor": 1
}
